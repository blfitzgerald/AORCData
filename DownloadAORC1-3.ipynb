{
 "cells": [
  {
   "cell_type": "code",
   "execution_count": null,
   "id": "8cac528a-87d7-455e-82d3-076ec05ef4c8",
   "metadata": {
    "id": "8cac528a-87d7-455e-82d3-076ec05ef4c8"
   },
   "outputs": [],
   "source": [
    "# Import needed libraries\n",
    "from urllib import request\n",
    "import shutil\n",
    "import ssl\n",
    "import zipfile\n",
    "import xarray\n",
    "import netCDF4 as nc\n",
    "import numpy as np\n",
    "import os\n",
    "ssl._create_default_https_context = ssl._create_unverified_context\n",
    "\n",
    "# Sets up arrays to download all data\n",
    "RFCArray=['ABRFC', 'CBRFC','CNRFC', 'LMRFC', 'MARFC', 'MBRFC', 'NCRFC', 'NERFC', 'NWRFC', 'OHRFC', 'SERFC', 'WGRFC'];\n",
    "YearArray=list(range(1979,1981));\n",
    "print(YearArray)\n",
    "MonthArray=['01', '02', '03', '04', '05', '06', '07', '08', '09', '10', '11', '12'];\n",
    "MonthDays=[31, 28, 31, 30, 31, 30, 31, 31, 30, 31, 30, 30];\n",
    "            \n",
    "DayArray31=['01', '02', '03', '04', '05', '06', '07', '08', '09', '10', '11', '12','13', '14', '15', '16', '17', '18', '19', '20', '21', '22','23','24','25','26','27','28','29','30','31'];\n",
    "DayArray28=['01', '02', '03', '04', '05', '06', '07', '08', '09', '10', '11', '12','13', '14', '15', '16', '17', '18', '19', '20', '21', '22','23','24','25','26','27','28'];\n",
    "DayArray29=['01', '02', '03', '04', '05', '06', '07', '08', '09', '10', '11', '12','13', '14', '15', '16', '17', '18', '19', '20', '21', '22','23','24','25','26','27','28','29'];\n",
    "DayArray30=['01', '02', '03', '04', '05', '06', '07', '08', '09', '10', '11', '12','13', '14', '15', '16', '17', '18', '19', '20', '21', '22','23','24','25','26','27','28','29','30'];\n",
    "HourArray=['00','01', '02', '03', '04', '05', '06', '07', '08', '09', '10', '11', '12','13', '14', '15', '16', '17', '18', '19', '20', '21', '22','23'];\n"
   ]
  },
  {
   "cell_type": "code",
   "execution_count": null,
   "id": "3df9d7fc-0e4d-45ee-a93b-1e304f3e616a",
   "metadata": {
    "id": "3df9d7fc-0e4d-45ee-a93b-1e304f3e616a"
   },
   "outputs": [],
   "source": [
    "for aa in YearArray:\n",
    "    Year=str(aa);\n",
    "    for bb in MonthArray:\n",
    "        Month=bb;\n",
    "        if Year== '1979' and Month=='01':\n",
    "            continue     \n",
    "        for cc in RFCArray:\n",
    "            RFC=cc;\n",
    "            URL = \"https://hydrology.nws.noaa.gov/aorc-historic/AORC_\"+RFC+ \"_4km/\"+RFC+\"_precip_partition/AORC_APCP_4KM_\"+RFC+\"_\"+Year+Month+\".zip\";\n",
    "            FileName=\"AORC_APCP_4KM_\"+RFC+\"_\"+Year+Month+\".zip\";\n",
    "            response = request.urlretrieve(URL, \"Zips/\"+FileName)\n",
    "            with zipfile.ZipFile(\"Zips/\"+FileName, 'r') as zip_ref:\n",
    "                zip_ref.extractall(\"Data\")\n",
    "        \n",
    "        MonthNum=int(Month)-1;\n",
    "        MonthSize=MonthDays[MonthNum]\n",
    "        \n",
    "        if MonthSize==31:\n",
    "            DayArray=DayArray31;\n",
    "            \n",
    "        if MonthSize==30:\n",
    "            DayArray=DayArray30;\n",
    "            \n",
    "        if MonthSize==28:\n",
    "            DayArray=DayArray28;\n",
    "            \n",
    "        if (int(aa) % 4 ==0):\n",
    "            DayArray=DayArray29;\n",
    "                \n",
    "        for cc in DayArray:\n",
    "            Day=cc\n",
    "            for dd in HourArray:\n",
    "                Hour=dd;\n",
    "                d1=xarray.open_dataset('Data/AORC_APCP_ABRFC_'+Year+Month+Day+Hour+'.nc4')\n",
    "                for ee in RFCArray:\n",
    "                    if ee=='ABRFC':\n",
    "                        continue\n",
    "                        \n",
    "                    d2=xarray.open_dataset('Data/AORC_APCP_'+ee+'_'+Year+Month+Day+Hour+'.nc4')\n",
    "                    ds= xarray.merge([d1,d2])\n",
    "                    d1=ds\n",
    "                       \n",
    "                ds.to_netcdf('Finished/AORC_APCP_'+Year+Month+Day+Hour+'.nc')\n"
   ]
  }
 ],
 "metadata": {
  "colab": {
   "name": "DownloadAORC.ipynb",
   "provenance": []
  },
  "kernelspec": {
   "display_name": "Python 3 (ipykernel)",
   "language": "python",
   "name": "python3"
  },
  "language_info": {
   "codemirror_mode": {
    "name": "ipython",
    "version": 3
   },
   "file_extension": ".py",
   "mimetype": "text/x-python",
   "name": "python",
   "nbconvert_exporter": "python",
   "pygments_lexer": "ipython3",
   "version": "3.9.12"
  }
 },
 "nbformat": 4,
 "nbformat_minor": 5
}
