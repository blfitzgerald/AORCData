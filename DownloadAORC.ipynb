{
 "cells": [
  {
   "cell_type": "code",
   "execution_count": 1,
   "id": "8cac528a-87d7-455e-82d3-076ec05ef4c8",
   "metadata": {
    "id": "8cac528a-87d7-455e-82d3-076ec05ef4c8"
   },
   "outputs": [],
   "source": [
    "# Import needed libraries\n",
    "from urllib import request\n",
    "import shutil\n",
    "import ssl\n",
    "import zipfile\n",
    "import xarray\n",
    "import netCDF4 as nc\n",
    "import numpy as np\n",
    "import os\n",
    "ssl._create_default_https_context = ssl._create_unverified_context\n",
    "\n",
    "# Sets up arrays to download all data\n",
    "RFCArray=['ABRFC', 'CBRFC','CNRFC', 'LMRFC', 'MARFC', 'MBRFC', 'NCRFC', 'NERFC', 'NWRFC', 'OHRFC', 'SERFC', 'WGRFC'];\n",
    "YearArray=list(range(1979,2023));\n",
    "MonthArray=['01', '02', '03', '04', '05', '06', '07', '08', '09', '10', '11', '12'];"
   ]
  },
  {
   "cell_type": "code",
   "execution_count": 2,
   "id": "3df9d7fc-0e4d-45ee-a93b-1e304f3e616a",
   "metadata": {
    "id": "3df9d7fc-0e4d-45ee-a93b-1e304f3e616a"
   },
   "outputs": [],
   "source": [
    "for aa in RFCArray:\n",
    "    RFC=aa;\n",
    "    Year=str(YearArray[0]);\n",
    "    Month=MonthArray[1];\n",
    "    \n",
    "    URL = \"https://hydrology.nws.noaa.gov/aorc-historic/AORC_\"+RFC+ \"_4km/\"+RFC+\"_precip_partition/AORC_APCP_4KM_\"+RFC+\"_\"+Year+Month+\".zip\";\n",
    "    FileName=\"AORC_APCP_4KM_\"+RFC+\"_\"+Year+Month+\".zip\";\n",
    "    response = request.urlretrieve(URL, \"Zips/\"+FileName)\n",
    "\n",
    "    with zipfile.ZipFile(\"Zips/\"+FileName, 'r') as zip_ref:\n",
    "        zip_ref.extractall(\"Data\")\n",
    "        \n"
   ]
  },
  {
   "cell_type": "code",
   "execution_count": 3,
   "id": "1f8241d5-17b1-4f60-bb3c-f47bcd802629",
   "metadata": {
    "colab": {
     "base_uri": "https://localhost:8080/",
     "height": 433
    },
    "id": "1f8241d5-17b1-4f60-bb3c-f47bcd802629",
    "outputId": "3efdeb4f-8b96-456e-9b42-cbe1286a7510"
   },
   "outputs": [],
   "source": [
    "#ds = xarray.combine_nested('Data/AORC_APCP_ABRFC_1979020100.nc4','Data/AORC_APCP_CBRFC_1979020100.nc4')\n",
    "#ds = xarray.open_mfdataset('Open')\n",
    "d1=xarray.open_dataset('Data/AORC_APCP_ABRFC_1979020100.nc4')\n",
    "#d2=xarray.open_dataset('Data/AORC_APCP_ABRFC_1979020100.nc4')\n",
    "for aa in RFCArray:\n",
    "    d2=xarray.open_dataset('Data/AORC_APCP_'+aa+'_1979020100.nc4')\n",
    "    ds= xarray.merge([d1,d2])\n",
    "    d1=ds\n",
    "                       \n",
    "    \n",
    "d1.to_netcdf('AORC_APCP_1979020100.nc')"
   ]
  },
  {
   "cell_type": "code",
   "execution_count": null,
   "id": "61965b76-5a39-46b8-bfb0-546694b9c5e9",
   "metadata": {
    "id": "61965b76-5a39-46b8-bfb0-546694b9c5e9"
   },
   "outputs": [],
   "source": [
    "# need to get it so can iterate to create combined rfbcs "
   ]
  },
  {
   "cell_type": "code",
   "execution_count": 30,
   "id": "e391212d-24bb-4688-9352-4cd7b5d3e279",
   "metadata": {
    "id": "e391212d-24bb-4688-9352-4cd7b5d3e279"
   },
   "outputs": [
    {
     "name": "stdout",
     "output_type": "stream",
     "text": [
      "<class 'xarray.core.dataset.Dataset'>\n",
      "<class 'xarray.core.dataset.Dataset'>\n"
     ]
    }
   ],
   "source": [
    "\n"
   ]
  },
  {
   "cell_type": "code",
   "execution_count": null,
   "id": "bd77fe14-5f82-4b45-8a6d-d1f39a050021",
   "metadata": {
    "id": "bd77fe14-5f82-4b45-8a6d-d1f39a050021"
   },
   "outputs": [],
   "source": []
  },
  {
   "cell_type": "code",
   "execution_count": null,
   "id": "c94e4fe1-b4bf-40b5-afa8-8e399fe07062",
   "metadata": {
    "id": "c94e4fe1-b4bf-40b5-afa8-8e399fe07062"
   },
   "outputs": [],
   "source": []
  }
 ],
 "metadata": {
  "colab": {
   "name": "DownloadAORC.ipynb",
   "provenance": []
  },
  "kernelspec": {
   "display_name": "Python 3 (ipykernel)",
   "language": "python",
   "name": "python3"
  },
  "language_info": {
   "codemirror_mode": {
    "name": "ipython",
    "version": 3
   },
   "file_extension": ".py",
   "mimetype": "text/x-python",
   "name": "python",
   "nbconvert_exporter": "python",
   "pygments_lexer": "ipython3",
   "version": "3.9.12"
  }
 },
 "nbformat": 4,
 "nbformat_minor": 5
}
